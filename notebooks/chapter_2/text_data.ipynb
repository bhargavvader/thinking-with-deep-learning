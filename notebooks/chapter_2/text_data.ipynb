{
 "cells": [
  {
   "cell_type": "markdown",
   "metadata": {},
   "source": [
    "## Text Data : Cleaning, Organising, and Representing\n",
    "\n",
    "This jupyter notebook walks through the various parts of cleaning text data, as well as the various ways we can represent text data before feeding it into a variety of ML algorithms. "
   ]
  },
  {
   "cell_type": "code",
   "execution_count": 1,
   "metadata": {},
   "outputs": [],
   "source": [
    "import gensim\n",
    "import numpy as np\n",
    "import spacy\n",
    "from spacy import displacy\n",
    "from gensim.corpora import Dictionary\n",
    "from gensim.models import LdaModel\n",
    "import matplotlib.pyplot as plt\n",
    "import sklearn\n",
    "import keras"
   ]
  },
  {
   "cell_type": "code",
   "execution_count": 2,
   "metadata": {},
   "outputs": [],
   "source": [
    "import warnings\n",
    "warnings.simplefilter(\"ignore\")\n"
   ]
  },
  {
   "cell_type": "code",
   "execution_count": 3,
   "metadata": {},
   "outputs": [],
   "source": [
    "raw_texts = [\"Apples taste like onions when we cannot smell.\",\n",
    "        \"I find it easy to compare apples and oranges.\",\n",
    "        \"Chopping onions can make you cry.\",\n",
    "        \"Peeling an orange does not make you cry.\"]"
   ]
  },
  {
   "cell_type": "code",
   "execution_count": 4,
   "metadata": {},
   "outputs": [],
   "source": [
    "nlp = spacy.load('en')"
   ]
  },
  {
   "cell_type": "code",
   "execution_count": 5,
   "metadata": {},
   "outputs": [],
   "source": [
    "my_stop_words = ['today']\n",
    "for stopword in my_stop_words:\n",
    "    lexeme = nlp.vocab[stopword]\n",
    "    lexeme.is_stop = True"
   ]
  },
  {
   "cell_type": "code",
   "execution_count": 6,
   "metadata": {},
   "outputs": [],
   "source": [
    "texts, article = [], []\n",
    "for text in raw_texts:\n",
    "    doc = nlp(text)\n",
    "    article = []\n",
    "    for w in doc:\n",
    "        # if it's not a stop word or punctuation mark, add it to our article!\n",
    "        if w.text != '\\n' and not w.is_stop and not w.is_punct and not w.like_num:\n",
    "            # we add the lematized version of the word\n",
    "            article.append(w.lemma_)\n",
    "\n",
    "    texts.append(article)\n"
   ]
  },
  {
   "cell_type": "code",
   "execution_count": 7,
   "metadata": {},
   "outputs": [
    {
     "data": {
      "text/plain": [
       "'Apples taste like onions when we cannot smell.'"
      ]
     },
     "execution_count": 7,
     "metadata": {},
     "output_type": "execute_result"
    }
   ],
   "source": [
    "raw_texts[0]"
   ]
  },
  {
   "cell_type": "code",
   "execution_count": 8,
   "metadata": {},
   "outputs": [
    {
     "data": {
      "text/plain": [
       "['apple', 'taste', 'like', 'onion', 'smell']"
      ]
     },
     "execution_count": 8,
     "metadata": {},
     "output_type": "execute_result"
    }
   ],
   "source": [
    "texts[0]"
   ]
  },
  {
   "cell_type": "code",
   "execution_count": 9,
   "metadata": {},
   "outputs": [
    {
     "data": {
      "text/plain": [
       "[['apple', 'taste', 'like', 'onion', 'smell'],\n",
       " ['find', 'easy', 'compare', 'apple', 'orange'],\n",
       " ['chop', 'onion', 'cry'],\n",
       " ['peel', 'orange', 'cry']]"
      ]
     },
     "execution_count": 9,
     "metadata": {},
     "output_type": "execute_result"
    }
   ],
   "source": [
    "texts"
   ]
  },
  {
   "cell_type": "code",
   "execution_count": 10,
   "metadata": {},
   "outputs": [],
   "source": [
    "dictionary = Dictionary(texts)\n"
   ]
  },
  {
   "cell_type": "code",
   "execution_count": 11,
   "metadata": {},
   "outputs": [],
   "source": [
    "corpus = [dictionary.doc2bow(text) for text in texts]\n"
   ]
  },
  {
   "cell_type": "code",
   "execution_count": 12,
   "metadata": {},
   "outputs": [
    {
     "data": {
      "text/plain": [
       "[[(0, 1), (1, 1), (2, 1), (3, 1), (4, 1)],\n",
       " [(0, 1), (5, 1), (6, 1), (7, 1), (8, 1)],\n",
       " [(2, 1), (9, 1), (10, 1)],\n",
       " [(8, 1), (10, 1), (11, 1)]]"
      ]
     },
     "execution_count": 12,
     "metadata": {},
     "output_type": "execute_result"
    }
   ],
   "source": [
    "corpus"
   ]
  },
  {
   "cell_type": "code",
   "execution_count": 13,
   "metadata": {},
   "outputs": [],
   "source": [
    "from gensim.models import TfidfModel\n"
   ]
  },
  {
   "cell_type": "code",
   "execution_count": 14,
   "metadata": {},
   "outputs": [],
   "source": [
    "tf_idf_model = TfidfModel(corpus)"
   ]
  },
  {
   "cell_type": "code",
   "execution_count": 15,
   "metadata": {},
   "outputs": [],
   "source": [
    "tf_idf_texts = tf_idf_model[corpus]"
   ]
  },
  {
   "cell_type": "code",
   "execution_count": 16,
   "metadata": {},
   "outputs": [
    {
     "data": {
      "text/plain": [
       "[(0, 0.2672612419124244),\n",
       " (1, 0.5345224838248488),\n",
       " (2, 0.2672612419124244),\n",
       " (3, 0.5345224838248488),\n",
       " (4, 0.5345224838248488)]"
      ]
     },
     "execution_count": 16,
     "metadata": {},
     "output_type": "execute_result"
    }
   ],
   "source": [
    "tf_idf_texts[0]"
   ]
  },
  {
   "cell_type": "code",
   "execution_count": 17,
   "metadata": {},
   "outputs": [
    {
     "data": {
      "text/plain": [
       "[(0, 0.2672612419124244),\n",
       " (5, 0.5345224838248488),\n",
       " (6, 0.5345224838248488),\n",
       " (7, 0.5345224838248488),\n",
       " (8, 0.2672612419124244)]"
      ]
     },
     "execution_count": 17,
     "metadata": {},
     "output_type": "execute_result"
    }
   ],
   "source": [
    "tf_idf_texts[1]"
   ]
  },
  {
   "cell_type": "markdown",
   "metadata": {},
   "source": [
    "### Text pre-processing with scikit-learn\n",
    "\n",
    "I prefer to use gensim and spaCy for pre-processing because it is more clear at each step what my data structure looks like. However, for an abstracted approach to text pre-processing, scikit-learn works well, especially when you want to feed it into a traditional machine learning algorithm."
   ]
  },
  {
   "cell_type": "code",
   "execution_count": 18,
   "metadata": {},
   "outputs": [],
   "source": [
    "from sklearn.feature_extraction.text import TfidfVectorizer\n",
    "from sklearn.feature_extraction.text import CountVectorizer\n",
    "from sklearn.cluster import KMeans\n",
    "from sklearn.decomposition import TruncatedSVD\n",
    "from sklearn.preprocessing import Normalizer\n",
    "from sklearn.pipeline import make_pipeline"
   ]
  },
  {
   "cell_type": "code",
   "execution_count": 19,
   "metadata": {},
   "outputs": [],
   "source": [
    " vectorizer = CountVectorizer()"
   ]
  },
  {
   "cell_type": "code",
   "execution_count": 20,
   "metadata": {},
   "outputs": [],
   "source": [
    "X = vectorizer.fit_transform(raw_texts).toarray()"
   ]
  },
  {
   "cell_type": "code",
   "execution_count": 21,
   "metadata": {},
   "outputs": [
    {
     "name": "stdout",
     "output_type": "stream",
     "text": [
      "[[0 0 1 0 1 0 0 0 0 0 0 0 1 0 0 1 0 0 0 1 1 0 1 1 0]\n",
      " [0 1 1 0 0 0 1 0 0 1 1 1 0 0 0 0 0 1 0 0 0 1 0 0 0]\n",
      " [0 0 0 1 0 1 0 1 0 0 0 0 0 1 0 1 0 0 0 0 0 0 0 0 1]\n",
      " [1 0 0 0 0 0 0 1 1 0 0 0 0 1 1 0 1 0 1 0 0 0 0 0 1]]\n"
     ]
    }
   ],
   "source": [
    "print(X)"
   ]
  },
  {
   "cell_type": "code",
   "execution_count": 22,
   "metadata": {},
   "outputs": [],
   "source": [
    "vectorizer = TfidfVectorizer(stop_words='english')"
   ]
  },
  {
   "cell_type": "code",
   "execution_count": 23,
   "metadata": {},
   "outputs": [],
   "source": [
    "X = vectorizer.fit_transform(raw_texts).toarray()"
   ]
  },
  {
   "cell_type": "code",
   "execution_count": 24,
   "metadata": {},
   "outputs": [
    {
     "name": "stdout",
     "output_type": "stream",
     "text": [
      "[[0.38274272 0.         0.         0.         0.         0.48546061\n",
      "  0.         0.38274272 0.         0.         0.         0.48546061\n",
      "  0.48546061]\n",
      " [0.41428875 0.         0.52547275 0.         0.52547275 0.\n",
      "  0.         0.         0.         0.52547275 0.         0.\n",
      "  0.        ]\n",
      " [0.         0.66767854 0.         0.         0.         0.\n",
      "  0.52640543 0.52640543 0.         0.         0.         0.\n",
      "  0.        ]\n",
      " [0.         0.         0.         0.52547275 0.         0.\n",
      "  0.41428875 0.         0.52547275 0.         0.52547275 0.\n",
      "  0.        ]]\n"
     ]
    }
   ],
   "source": [
    "print(X)"
   ]
  },
  {
   "cell_type": "markdown",
   "metadata": {},
   "source": [
    "### Low and High Dimensional Representations of Text and Documents\n",
    "\n",
    "Let us use a TruncatedSVD to perform a latent semantic analysis on our data."
   ]
  },
  {
   "cell_type": "code",
   "execution_count": 25,
   "metadata": {},
   "outputs": [],
   "source": [
    "svd = TruncatedSVD(2)\n",
    "normalizer = Normalizer(copy=False)\n",
    "lsa = make_pipeline(svd, normalizer)"
   ]
  },
  {
   "cell_type": "code",
   "execution_count": 26,
   "metadata": {},
   "outputs": [],
   "source": [
    "X = lsa.fit_transform(X)"
   ]
  },
  {
   "cell_type": "code",
   "execution_count": 27,
   "metadata": {},
   "outputs": [
    {
     "data": {
      "text/plain": [
       "array([[ 0.80128627,  0.59828114],\n",
       "       [ 0.41506543,  0.90979156],\n",
       "       [ 0.93368336, -0.35809968],\n",
       "       [ 0.66405657, -0.74768233]])"
      ]
     },
     "execution_count": 27,
     "metadata": {},
     "output_type": "execute_result"
    }
   ],
   "source": [
    "X"
   ]
  },
  {
   "cell_type": "markdown",
   "metadata": {},
   "source": [
    "Each document here is represented by 2 features!\n",
    "We'll now have a quick peak at topic models, word and document embedding methods, and some other low dimensional methods which can be used to visualise documents. \n",
    "\n",
    "We're going to use a bigger dataset, because these methods are only useful when we have a lot of data. Models based on very large datasets take a while to train, so we'll use a medium sized one which comes pre-loaded with gensim to illustare the concepts."
   ]
  },
  {
   "cell_type": "code",
   "execution_count": 28,
   "metadata": {},
   "outputs": [],
   "source": [
    "import os"
   ]
  },
  {
   "cell_type": "code",
   "execution_count": 29,
   "metadata": {},
   "outputs": [],
   "source": [
    "test_data_dir = '{}'.format(os.sep).join([gensim.__path__[0], 'test', 'test_data'])\n",
    "lee_train_file = test_data_dir + os.sep + 'lee_background.cor'\n",
    "text = open(lee_train_file).read()"
   ]
  },
  {
   "cell_type": "code",
   "execution_count": 30,
   "metadata": {},
   "outputs": [],
   "source": [
    "doc = nlp(text.lower())"
   ]
  },
  {
   "cell_type": "code",
   "execution_count": 31,
   "metadata": {},
   "outputs": [],
   "source": [
    "my_stop_words = [u'say', u'mr', u'said', u'saying', u'says']\n",
    "for stopword in my_stop_words:\n",
    "    lexeme = nlp.vocab[stopword]\n",
    "    lexeme.is_stop = True"
   ]
  },
  {
   "cell_type": "code",
   "execution_count": 32,
   "metadata": {},
   "outputs": [],
   "source": [
    "# we add some words to the stop word list\n",
    "texts, article = [], []\n",
    "for w in doc:\n",
    "    # if it's not a stop word or punctuation mark, add it to our article!\n",
    "    if w.text != '\\n' and not w.is_stop and not w.is_punct and not w.like_num and w.text != 'I':\n",
    "        # we add the lematized version of the word\n",
    "        article.append(w.lemma_)\n",
    "    # if it's a new line, it means we're onto our next document\n",
    "    if w.text == '\\n':\n",
    "        texts.append(article)\n",
    "        article = []"
   ]
  },
  {
   "cell_type": "code",
   "execution_count": 33,
   "metadata": {},
   "outputs": [
    {
     "data": {
      "text/plain": [
       "299"
      ]
     },
     "execution_count": 33,
     "metadata": {},
     "output_type": "execute_result"
    }
   ],
   "source": [
    "len(texts)"
   ]
  },
  {
   "cell_type": "code",
   "execution_count": 34,
   "metadata": {},
   "outputs": [
    {
     "data": {
      "text/plain": [
       "['hundred',\n",
       " 'people',\n",
       " 'force',\n",
       " 'vacate',\n",
       " 'home',\n",
       " 'southern',\n",
       " 'highland',\n",
       " 'new',\n",
       " 'south',\n",
       " 'wales']"
      ]
     },
     "execution_count": 34,
     "metadata": {},
     "output_type": "execute_result"
    }
   ],
   "source": [
    "texts[0][0:10]"
   ]
  },
  {
   "cell_type": "markdown",
   "metadata": {},
   "source": [
    "### Bi-grams and n-grams"
   ]
  },
  {
   "cell_type": "code",
   "execution_count": 35,
   "metadata": {},
   "outputs": [],
   "source": [
    "bigram = gensim.models.Phrases(texts)"
   ]
  },
  {
   "cell_type": "code",
   "execution_count": 36,
   "metadata": {},
   "outputs": [],
   "source": [
    "texts = [bigram[line] for line in texts]"
   ]
  },
  {
   "cell_type": "code",
   "execution_count": 37,
   "metadata": {},
   "outputs": [
    {
     "data": {
      "text/plain": [
       "['hundred',\n",
       " 'people',\n",
       " 'force',\n",
       " 'vacate',\n",
       " 'home',\n",
       " 'southern',\n",
       " 'highland',\n",
       " 'new_south',\n",
       " 'wales',\n",
       " 'strong',\n",
       " 'wind',\n",
       " 'push',\n",
       " 'huge',\n",
       " 'bushfire',\n",
       " 'town',\n",
       " 'hill',\n",
       " 'new',\n",
       " 'blaze',\n",
       " 'near',\n",
       " 'goulburn',\n",
       " 'south',\n",
       " 'west',\n",
       " 'sydney',\n",
       " 'force',\n",
       " 'closure',\n",
       " 'hume',\n",
       " 'highway',\n",
       " '4:00pm',\n",
       " 'aedt',\n",
       " 'marked',\n",
       " 'deterioration',\n",
       " 'weather',\n",
       " 'storm',\n",
       " 'cell',\n",
       " 'move',\n",
       " 'east',\n",
       " 'blue_mountain',\n",
       " 'force',\n",
       " 'authority',\n",
       " 'decision',\n",
       " 'evacuate',\n",
       " 'people',\n",
       " 'home',\n",
       " 'outlying',\n",
       " 'street',\n",
       " 'hill',\n",
       " 'new_south',\n",
       " 'wales',\n",
       " 'southern',\n",
       " 'highland',\n",
       " 'estimated',\n",
       " 'resident',\n",
       " 'leave',\n",
       " 'home',\n",
       " 'nearby',\n",
       " 'mittagong',\n",
       " 'new_south',\n",
       " 'wales',\n",
       " 'rural_fire',\n",
       " 'service',\n",
       " 'weather_condition',\n",
       " 'cause',\n",
       " 'fire_burn',\n",
       " 'finger',\n",
       " 'formation',\n",
       " 'ease',\n",
       " 'fire',\n",
       " 'unit',\n",
       " 'hill',\n",
       " 'optimistic',\n",
       " 'defend',\n",
       " 'property',\n",
       " 'blaze',\n",
       " 'burn',\n",
       " 'new',\n",
       " 'year',\n",
       " 'eve',\n",
       " 'new_south',\n",
       " 'wales',\n",
       " 'fire',\n",
       " 'crew',\n",
       " 'call',\n",
       " 'new',\n",
       " 'fire',\n",
       " 'gunning',\n",
       " 'south',\n",
       " 'goulburn',\n",
       " 'detail',\n",
       " 'available',\n",
       " 'stage',\n",
       " 'fire',\n",
       " 'authority',\n",
       " 'close',\n",
       " 'hume',\n",
       " 'highway',\n",
       " 'direction',\n",
       " 'new',\n",
       " 'fire',\n",
       " 'sydney',\n",
       " 'west',\n",
       " 'long',\n",
       " 'threaten',\n",
       " 'property',\n",
       " 'cranebrook',\n",
       " 'area',\n",
       " 'rain',\n",
       " 'fall',\n",
       " 'part',\n",
       " 'illawarra',\n",
       " 'sydney',\n",
       " 'hunter',\n",
       " 'valley',\n",
       " 'north',\n",
       " 'coast',\n",
       " 'bureau',\n",
       " 'meteorology',\n",
       " 'claire',\n",
       " 'richards',\n",
       " 'rain',\n",
       " 'little',\n",
       " 'ease',\n",
       " 'fire_burn',\n",
       " 'state',\n",
       " 'fall',\n",
       " 'isolated',\n",
       " 'area',\n",
       " 'generally',\n",
       " 'fall',\n",
       " 'millimetre',\n",
       " 'place',\n",
       " 'significant',\n",
       " 'millimetre',\n",
       " 'relief',\n",
       " 'far',\n",
       " 'rain',\n",
       " 'concern',\n",
       " 'fact',\n",
       " 'probably',\n",
       " 'hamper',\n",
       " 'effort',\n",
       " 'firefighter',\n",
       " 'wind',\n",
       " 'gust',\n",
       " 'associate',\n",
       " 'thunderstorm']"
      ]
     },
     "execution_count": 37,
     "metadata": {},
     "output_type": "execute_result"
    }
   ],
   "source": [
    "texts[0]"
   ]
  },
  {
   "cell_type": "markdown",
   "metadata": {},
   "source": [
    "### Topic Models "
   ]
  },
  {
   "cell_type": "code",
   "execution_count": 38,
   "metadata": {},
   "outputs": [],
   "source": [
    "dictionary = Dictionary(texts)\n",
    "corpus = [dictionary.doc2bow(text) for text in texts]"
   ]
  },
  {
   "cell_type": "code",
   "execution_count": 39,
   "metadata": {},
   "outputs": [],
   "source": [
    "ldamodel = LdaModel(corpus=corpus, num_topics=5, id2word=dictionary)"
   ]
  },
  {
   "cell_type": "code",
   "execution_count": 40,
   "metadata": {},
   "outputs": [
    {
     "data": {
      "text/plain": [
       "[(0,\n",
       "  '0.005*\"day\" + 0.005*\"people\" + 0.004*\"kill\" + 0.004*\"australia\" + 0.004*\"time\" + 0.004*\"arrest\" + 0.003*\"arafat\" + 0.003*\"palestinian\" + 0.003*\"group\" + 0.003*\"israeli\"'),\n",
       " (1,\n",
       "  '0.006*\"australian\" + 0.005*\"fire\" + 0.005*\"year\" + 0.005*\"people\" + 0.004*\"area\" + 0.004*\"government\" + 0.004*\"new\" + 0.004*\"force\" + 0.004*\"police\" + 0.004*\"australia\"'),\n",
       " (2,\n",
       "  '0.005*\"force\" + 0.005*\"australian\" + 0.005*\"australia\" + 0.004*\"year\" + 0.004*\"official\" + 0.004*\"israeli\" + 0.004*\"palestinian\" + 0.004*\"tell\" + 0.003*\"company\" + 0.003*\"people\"'),\n",
       " (3,\n",
       "  '0.005*\"australia\" + 0.005*\"attack\" + 0.004*\"man\" + 0.004*\"people\" + 0.004*\"day\" + 0.004*\"palestinian\" + 0.004*\"australian\" + 0.004*\"government\" + 0.003*\"fire\" + 0.003*\"company\"'),\n",
       " (4,\n",
       "  '0.005*\"government\" + 0.005*\"australia\" + 0.003*\"year\" + 0.003*\"australian\" + 0.003*\"people\" + 0.003*\"day\" + 0.003*\"union\" + 0.003*\"police\" + 0.003*\"new\" + 0.002*\"power\"')]"
      ]
     },
     "execution_count": 40,
     "metadata": {},
     "output_type": "execute_result"
    }
   ],
   "source": [
    "ldamodel.print_topics()"
   ]
  },
  {
   "cell_type": "code",
   "execution_count": 41,
   "metadata": {},
   "outputs": [],
   "source": [
    "lda_doc_5 = ldamodel[dictionary.doc2bow(texts[5])]"
   ]
  },
  {
   "cell_type": "code",
   "execution_count": 42,
   "metadata": {},
   "outputs": [
    {
     "data": {
      "text/plain": [
       "[(1, 0.9018751), (4, 0.09065622)]"
      ]
     },
     "execution_count": 42,
     "metadata": {},
     "output_type": "execute_result"
    }
   ],
   "source": [
    "lda_doc_5"
   ]
  },
  {
   "cell_type": "code",
   "execution_count": 43,
   "metadata": {},
   "outputs": [
    {
     "data": {
      "text/plain": [
       "['federal_government',\n",
       " 'safe',\n",
       " 'afghani',\n",
       " 'asylum_seeker',\n",
       " 'australia',\n",
       " 'return',\n",
       " 'home',\n",
       " 'environment',\n",
       " 'secure',\n",
       " 'government',\n",
       " 'suspend',\n",
       " 'application',\n",
       " 'interim_government',\n",
       " 'establish',\n",
       " 'kabul']"
      ]
     },
     "execution_count": 43,
     "metadata": {},
     "output_type": "execute_result"
    }
   ],
   "source": [
    "texts[5][0:15]"
   ]
  },
  {
   "cell_type": "markdown",
   "metadata": {},
   "source": [
    "Now we've seen how both LDA and LSI, in two different packages, and a variety of ways to represent textual documents. Some representations of textual documents can be especially useful for visualising documents - let's try a few of these."
   ]
  },
  {
   "cell_type": "markdown",
   "metadata": {},
   "source": [
    "### Dimensionality Reduction for Document Visualisation\n",
    "\n",
    "Some methods are built with visualisation in mind, and t-SNE and UMAP are two of them. These are more striking when we have labels of what category, so we will be using a pre-loaded dataset from the Yellowbricks package."
   ]
  },
  {
   "cell_type": "code",
   "execution_count": 44,
   "metadata": {},
   "outputs": [],
   "source": [
    "from yellowbrick.text import TSNEVisualizer\n",
    "from yellowbrick.datasets import load_hobbies\n",
    "from yellowbrick.text import UMAPVisualizer\n"
   ]
  },
  {
   "cell_type": "code",
   "execution_count": 45,
   "metadata": {},
   "outputs": [],
   "source": [
    "# Load the data and create document vectors\n",
    "corpus = load_hobbies()\n",
    "tfidf = TfidfVectorizer()"
   ]
  },
  {
   "cell_type": "code",
   "execution_count": 46,
   "metadata": {},
   "outputs": [],
   "source": [
    "X = tfidf.fit_transform(corpus.data)\n",
    "y = corpus.target\n"
   ]
  },
  {
   "cell_type": "code",
   "execution_count": 47,
   "metadata": {},
   "outputs": [
    {
     "name": "stderr",
     "output_type": "stream",
     "text": [
      "*c* argument looks like a single numeric RGB or RGBA sequence, which should be avoided as value-mapping will have precedence in case its length matches with *x* & *y*.  Please use the *color* keyword-argument or provide a 2-D array with a single row if you intend to specify the same RGB or RGBA value for all points.\n",
      "*c* argument looks like a single numeric RGB or RGBA sequence, which should be avoided as value-mapping will have precedence in case its length matches with *x* & *y*.  Please use the *color* keyword-argument or provide a 2-D array with a single row if you intend to specify the same RGB or RGBA value for all points.\n",
      "*c* argument looks like a single numeric RGB or RGBA sequence, which should be avoided as value-mapping will have precedence in case its length matches with *x* & *y*.  Please use the *color* keyword-argument or provide a 2-D array with a single row if you intend to specify the same RGB or RGBA value for all points.\n",
      "*c* argument looks like a single numeric RGB or RGBA sequence, which should be avoided as value-mapping will have precedence in case its length matches with *x* & *y*.  Please use the *color* keyword-argument or provide a 2-D array with a single row if you intend to specify the same RGB or RGBA value for all points.\n",
      "*c* argument looks like a single numeric RGB or RGBA sequence, which should be avoided as value-mapping will have precedence in case its length matches with *x* & *y*.  Please use the *color* keyword-argument or provide a 2-D array with a single row if you intend to specify the same RGB or RGBA value for all points.\n"
     ]
    },
    {
     "data": {
      "image/png": "[encoded data removed]",
      "text/plain": [
       "<Figure size 576x396 with 1 Axes>"
      ]
     },
     "metadata": {},
     "output_type": "display_data"
    },
    {
     "data": {
      "text/plain": [
       "<AxesSubplot:title={'center':'TSNE Projection of 448 Documents'}>"
      ]
     },
     "execution_count": 47,
     "metadata": {},
     "output_type": "execute_result"
    }
   ],
   "source": [
    "# Create the visualizer and draw the vectors\n",
    "tsne = TSNEVisualizer()\n",
    "tsne.fit(X, y)\n",
    "tsne.show()"
   ]
  },
  {
   "cell_type": "code",
   "execution_count": 49,
   "metadata": {},
   "outputs": [
    {
     "name": "stderr",
     "output_type": "stream",
     "text": [
      "*c* argument looks like a single numeric RGB or RGBA sequence, which should be avoided as value-mapping will have precedence in case its length matches with *x* & *y*.  Please use the *color* keyword-argument or provide a 2-D array with a single row if you intend to specify the same RGB or RGBA value for all points.\n",
      "*c* argument looks like a single numeric RGB or RGBA sequence, which should be avoided as value-mapping will have precedence in case its length matches with *x* & *y*.  Please use the *color* keyword-argument or provide a 2-D array with a single row if you intend to specify the same RGB or RGBA value for all points.\n",
      "*c* argument looks like a single numeric RGB or RGBA sequence, which should be avoided as value-mapping will have precedence in case its length matches with *x* & *y*.  Please use the *color* keyword-argument or provide a 2-D array with a single row if you intend to specify the same RGB or RGBA value for all points.\n",
      "*c* argument looks like a single numeric RGB or RGBA sequence, which should be avoided as value-mapping will have precedence in case its length matches with *x* & *y*.  Please use the *color* keyword-argument or provide a 2-D array with a single row if you intend to specify the same RGB or RGBA value for all points.\n",
      "*c* argument looks like a single numeric RGB or RGBA sequence, which should be avoided as value-mapping will have precedence in case its length matches with *x* & *y*.  Please use the *color* keyword-argument or provide a 2-D array with a single row if you intend to specify the same RGB or RGBA value for all points.\n"
     ]
    },
    {
     "data": {
      "image/png": "[encoded data removed]",
      "text/plain": [
       "<Figure size 576x396 with 1 Axes>"
      ]
     },
     "metadata": {},
     "output_type": "display_data"
    },
    {
     "data": {
      "text/plain": [
       "<AxesSubplot:title={'center':'UMAP Projection of 448 Documents'}>"
      ]
     },
     "execution_count": 49,
     "metadata": {},
     "output_type": "execute_result"
    }
   ],
   "source": [
    "# Instantiate the text visualizer\n",
    "umap = UMAPVisualizer()\n",
    "umap.fit(X, y)\n",
    "umap.show()"
   ]
  },
  {
   "cell_type": "markdown",
   "metadata": {},
   "source": [
    "### Embedding Models"
   ]
  },
  {
   "cell_type": "code",
   "execution_count": 50,
   "metadata": {},
   "outputs": [],
   "source": [
    "from gensim.models import Word2Vec\n"
   ]
  },
  {
   "cell_type": "code",
   "execution_count": 51,
   "metadata": {},
   "outputs": [],
   "source": [
    "w2vmodel = Word2Vec(\n",
    "        texts,\n",
    "        size=100,\n",
    "        window=10,\n",
    "        workers=10,\n",
    "        iter=10)"
   ]
  },
  {
   "cell_type": "code",
   "execution_count": 52,
   "metadata": {},
   "outputs": [
    {
     "data": {
      "text/plain": [
       "[('international', 0.9999399781227112),\n",
       " ('include', 0.9999326467514038),\n",
       " ('tell', 0.9999257326126099),\n",
       " ('hold', 0.9999250173568726),\n",
       " (' ', 0.999924898147583),\n",
       " ('early', 0.9999223947525024),\n",
       " ('send', 0.9999217987060547),\n",
       " ('return', 0.9999198913574219),\n",
       " ('try', 0.9999178647994995),\n",
       " ('call', 0.9999173283576965)]"
      ]
     },
     "execution_count": 52,
     "metadata": {},
     "output_type": "execute_result"
    }
   ],
   "source": [
    "w2vmodel.wv.most_similar(\"war\")"
   ]
  },
  {
   "cell_type": "code",
   "execution_count": 53,
   "metadata": {},
   "outputs": [
    {
     "data": {
      "text/plain": [
       "array([ 8.65779161e-01, -3.15972447e-01,  3.19325103e-04,  6.65038228e-02,\n",
       "       -2.55873471e-01,  3.26871812e-01, -9.65555727e-01, -7.14841664e-01,\n",
       "        7.45815365e-03,  1.45195648e-01, -1.91609323e-01, -2.68334955e-01,\n",
       "        2.97859192e-01, -2.09986776e-01,  2.68545270e-01,  3.37771416e-01,\n",
       "       -2.83528864e-01,  2.37872392e-01, -8.49411547e-01,  3.51386517e-02,\n",
       "       -1.05223864e-01, -2.91891366e-01,  6.79408759e-02, -5.79484291e-02,\n",
       "       -4.84737843e-01,  7.20617950e-01, -1.71596348e-01, -6.72701955e-01,\n",
       "       -1.43482253e-01,  1.02989756e-01, -4.48938489e-01, -6.23109825e-02,\n",
       "        1.27699569e-01, -2.32046738e-01, -9.06279683e-02,  2.56205171e-01,\n",
       "       -4.61241752e-01,  2.99803436e-01,  4.41469112e-03, -2.14533910e-01,\n",
       "        2.77172774e-01, -1.47596642e-01,  2.38513768e-01, -5.00824511e-01,\n",
       "        2.80688912e-01,  3.78918827e-01, -2.06082702e-01,  3.20038378e-01,\n",
       "        1.79775640e-01, -6.63651705e-01,  4.44944859e-01,  2.67428428e-01,\n",
       "        4.51788269e-02,  3.51481318e-01, -3.45093876e-01, -3.79736722e-01,\n",
       "       -7.86583405e-03, -2.85631746e-01, -5.52871585e-01, -4.73056793e-01,\n",
       "        3.29626977e-01,  3.43873709e-01, -5.72007382e-03,  4.01845813e-01,\n",
       "        4.72080320e-01, -2.85225451e-01, -3.77482355e-01,  2.58215666e-01,\n",
       "       -3.42266172e-01,  7.52014399e-01,  4.78274256e-01,  1.87107235e-01,\n",
       "        1.15912318e-01,  1.78520262e-01, -2.59313434e-01,  5.48836708e-01,\n",
       "        1.05177917e-01, -7.66303718e-01, -8.99380565e-01, -2.98301339e-01,\n",
       "        9.55256373e-02, -2.46568069e-01, -9.74319577e-02,  1.39564902e-01,\n",
       "       -6.91592991e-01, -1.53362438e-01,  1.16918825e-01, -2.84847975e-01,\n",
       "       -2.25799143e-01, -3.39605398e-02,  2.24477589e-01,  4.14830089e-01,\n",
       "       -6.86347604e-01,  5.86171389e-01,  2.49251023e-01, -1.42462194e-01,\n",
       "        6.70826435e-01,  8.20164457e-02, -4.82340991e-01,  3.33518118e-01],\n",
       "      dtype=float32)"
      ]
     },
     "execution_count": 53,
     "metadata": {},
     "output_type": "execute_result"
    }
   ],
   "source": [
    "w2vmodel.wv[\"war\"]"
   ]
  },
  {
   "cell_type": "code",
   "execution_count": 54,
   "metadata": {},
   "outputs": [],
   "source": [
    "model_address = \"/Users/bhargavvader/open_source/comp-syn/GoogleNews-vectors-negative300.bin\" "
   ]
  },
  {
   "cell_type": "code",
   "execution_count": 55,
   "metadata": {},
   "outputs": [],
   "source": [
    "google_w2v_model = gensim.models.KeyedVectors.load_word2vec_format(model_address, binary=True)"
   ]
  },
  {
   "cell_type": "code",
   "execution_count": 56,
   "metadata": {},
   "outputs": [
    {
     "data": {
      "text/plain": [
       "[('wars', 0.748465895652771),\n",
       " ('War', 0.6410670280456543),\n",
       " ('invasion', 0.5892110466957092),\n",
       " ('Persian_Gulf_War', 0.5890660285949707),\n",
       " ('Vietnam_War', 0.5886474847793579),\n",
       " ('Iraq', 0.588599443435669),\n",
       " ('unwinnable_quagmire', 0.5681803226470947),\n",
       " ('un_winnable', 0.560634970664978),\n",
       " ('occupation', 0.5506216287612915),\n",
       " ('conflict', 0.5506188273429871)]"
      ]
     },
     "execution_count": 56,
     "metadata": {},
     "output_type": "execute_result"
    }
   ],
   "source": [
    "google_w2v_model.most_similar(\"war\")"
   ]
  },
  {
   "cell_type": "code",
   "execution_count": 57,
   "metadata": {},
   "outputs": [
    {
     "data": {
      "text/plain": [
       "array([ 3.39843750e-01,  3.04687500e-01,  9.86328125e-02,  1.67968750e-01,\n",
       "       -5.63964844e-02,  2.33154297e-02,  2.73437500e-01, -2.44140625e-01,\n",
       "        5.41992188e-02,  2.10937500e-01,  3.73535156e-02, -5.56640625e-02,\n",
       "       -2.83203125e-02,  4.23828125e-01, -8.15429688e-02,  1.47460938e-01,\n",
       "       -9.52148438e-02, -1.45507812e-01,  9.42382812e-02, -2.55859375e-01,\n",
       "        5.22460938e-02,  1.74804688e-01,  7.61718750e-02, -1.38671875e-01,\n",
       "       -3.95507812e-02,  2.04101562e-01,  2.84423828e-02, -2.83203125e-01,\n",
       "        4.33593750e-01, -1.86523438e-01, -8.39843750e-02, -1.01562500e-01,\n",
       "       -2.27539062e-01, -8.00781250e-02,  9.88769531e-03, -1.77001953e-02,\n",
       "       -2.77709961e-03,  1.72851562e-01,  6.12792969e-02, -1.80664062e-02,\n",
       "        1.04003906e-01,  3.83300781e-02,  4.37500000e-01, -9.17968750e-02,\n",
       "        1.33789062e-01,  1.14257812e-01,  4.44335938e-02, -3.17382812e-02,\n",
       "       -1.80664062e-01,  1.33789062e-01,  1.17675781e-01, -1.42578125e-01,\n",
       "       -2.67578125e-01, -1.19628906e-01, -1.87500000e-01, -1.68945312e-01,\n",
       "       -5.44433594e-02, -3.63769531e-02,  9.70458984e-03, -3.02734375e-02,\n",
       "       -3.34472656e-02,  1.98242188e-01, -9.46044922e-03, -1.18652344e-01,\n",
       "       -3.33984375e-01,  1.21582031e-01,  3.97949219e-02, -1.85546875e-02,\n",
       "        1.12915039e-03, -1.29882812e-01,  2.91015625e-01,  2.13867188e-01,\n",
       "        6.29882812e-02,  2.15820312e-01, -1.12792969e-01, -4.60937500e-01,\n",
       "        2.79296875e-01,  7.76367188e-02, -1.77734375e-01,  3.41796875e-02,\n",
       "       -1.35742188e-01,  8.42285156e-03, -2.42919922e-02,  2.49023438e-01,\n",
       "       -1.15234375e-01,  2.44140625e-01, -2.91015625e-01,  2.53906250e-01,\n",
       "        4.10156250e-02, -4.24804688e-02, -1.68945312e-01,  4.98046875e-02,\n",
       "       -1.74804688e-01, -1.96533203e-02, -1.23535156e-01,  1.31835938e-01,\n",
       "        1.66992188e-01,  1.01562500e-01,  8.15429688e-02, -2.81982422e-02,\n",
       "       -3.22265625e-02,  6.34765625e-02,  2.05078125e-01, -5.20019531e-02,\n",
       "       -2.20703125e-01,  7.03125000e-02, -2.15820312e-01,  4.51660156e-02,\n",
       "        9.37500000e-02,  1.66992188e-01, -4.17480469e-02, -1.88476562e-01,\n",
       "        6.07910156e-02,  6.59179688e-02,  1.60156250e-01,  1.62353516e-02,\n",
       "       -6.54296875e-02,  1.52343750e-01,  2.22167969e-02,  3.54003906e-02,\n",
       "       -2.81250000e-01,  7.66601562e-02,  4.95605469e-02,  4.93164062e-02,\n",
       "       -2.07031250e-01, -1.23535156e-01, -1.11328125e-01, -1.76757812e-01,\n",
       "       -3.95507812e-02, -4.78515625e-02,  1.94335938e-01, -2.02148438e-01,\n",
       "       -7.86132812e-02, -1.04492188e-01,  3.10058594e-02, -7.61718750e-02,\n",
       "       -5.44433594e-02, -7.51953125e-02,  9.08203125e-02, -8.93554688e-02,\n",
       "       -1.96289062e-01,  1.94335938e-01, -4.51660156e-02,  1.54296875e-01,\n",
       "       -2.99072266e-02, -2.67578125e-01, -4.30297852e-03,  8.49609375e-02,\n",
       "       -1.66992188e-01,  1.63574219e-02,  2.67578125e-01, -2.34375000e-01,\n",
       "        2.26562500e-01,  2.13623047e-02, -2.31445312e-01, -2.23632812e-01,\n",
       "        1.25732422e-02, -5.85937500e-02, -5.44433594e-02,  1.44042969e-02,\n",
       "       -1.99218750e-01,  3.88183594e-02,  3.32031250e-01, -1.46484375e-01,\n",
       "       -2.16796875e-01, -2.02636719e-02,  7.56835938e-02, -7.42187500e-02,\n",
       "        2.98828125e-01, -5.81054688e-02, -7.71484375e-02, -1.94335938e-01,\n",
       "        1.44531250e-01, -2.51953125e-01, -1.85546875e-02, -2.49023438e-01,\n",
       "       -1.88476562e-01, -1.04492188e-01,  1.35803223e-03, -6.29882812e-02,\n",
       "       -1.41601562e-01, -3.90625000e-02, -1.16699219e-01, -2.91015625e-01,\n",
       "        1.66015625e-02, -1.52343750e-01, -4.51660156e-02,  3.29589844e-02,\n",
       "        2.02636719e-02,  8.69140625e-02,  1.38671875e-01,  5.44433594e-02,\n",
       "        1.47460938e-01,  1.61132812e-02,  5.54199219e-02,  2.59765625e-01,\n",
       "        6.93359375e-02,  1.18652344e-01, -8.05664062e-02,  1.15234375e-01,\n",
       "        1.15722656e-01,  1.73339844e-02,  1.23535156e-01, -5.54199219e-02,\n",
       "       -1.06201172e-02,  7.41577148e-03, -5.02929688e-02, -2.05078125e-01,\n",
       "       -2.89062500e-01, -5.02929688e-02, -2.24609375e-02, -3.71093750e-02,\n",
       "       -1.83593750e-01, -1.81640625e-01, -7.44628906e-03, -4.12597656e-02,\n",
       "       -1.91650391e-02, -1.13769531e-01, -3.90625000e-02,  2.13623047e-02,\n",
       "       -5.68847656e-02, -8.15429688e-02,  2.18750000e-01, -2.55859375e-01,\n",
       "       -1.02050781e-01, -2.63671875e-01, -3.50952148e-03,  3.22265625e-02,\n",
       "        2.94921875e-01, -2.10937500e-01, -6.39648438e-02, -8.34960938e-02,\n",
       "       -1.35742188e-01, -1.39648438e-01,  3.71093750e-02, -4.32128906e-02,\n",
       "        6.68945312e-02,  1.99218750e-01,  6.98242188e-02, -2.63671875e-01,\n",
       "        2.06054688e-01, -2.79296875e-01, -1.45507812e-01,  2.65625000e-01,\n",
       "       -1.59179688e-01,  4.29687500e-01, -1.27929688e-01, -1.26953125e-01,\n",
       "       -3.50952148e-03,  1.11816406e-01, -2.05078125e-01, -2.71484375e-01,\n",
       "       -9.08203125e-02,  9.91210938e-02,  9.81445312e-02, -5.59082031e-02,\n",
       "        2.39257812e-01,  1.71661377e-03,  3.56445312e-02, -8.69140625e-02,\n",
       "        1.24511719e-01, -3.90625000e-02,  7.56835938e-02,  4.54101562e-02,\n",
       "       -4.00390625e-01,  1.82617188e-01, -2.91015625e-01, -2.96875000e-01,\n",
       "       -1.87500000e-01,  2.13623047e-02,  6.78710938e-02,  2.45117188e-01,\n",
       "        2.20703125e-01, -1.55273438e-01,  1.16210938e-01,  1.29882812e-01,\n",
       "       -1.32812500e-01,  2.38281250e-01, -4.45312500e-01,  2.07519531e-03,\n",
       "       -2.46093750e-01, -1.84570312e-01, -3.95507812e-02,  7.61718750e-02,\n",
       "        1.35498047e-02, -4.19921875e-02, -4.17968750e-01,  1.11083984e-02,\n",
       "        1.91406250e-01,  3.29589844e-02, -1.99218750e-01, -2.30468750e-01,\n",
       "       -1.61132812e-01,  2.89062500e-01,  6.20117188e-02, -1.31835938e-01,\n",
       "       -1.37695312e-01,  1.52587891e-04,  8.20312500e-02,  2.08984375e-01],\n",
       "      dtype=float32)"
      ]
     },
     "execution_count": 57,
     "metadata": {},
     "output_type": "execute_result"
    }
   ],
   "source": [
    "google_w2v_model[\"war\"]"
   ]
  },
  {
   "cell_type": "code",
   "execution_count": 58,
   "metadata": {},
   "outputs": [
    {
     "data": {
      "text/plain": [
       "[('spatula', 0.6753253936767578),\n",
       " ('spoons', 0.6649504899978638),\n",
       " ('pancake_turner', 0.6564604043960571),\n",
       " ('ladle', 0.6539714336395264),\n",
       " ('wooden_skewer', 0.6503499746322632),\n",
       " ('wooden_spatula', 0.6482176780700684),\n",
       " ('soup_spoon', 0.6460204124450684),\n",
       " ('ramekin', 0.6428078413009644),\n",
       " ('metal_spatula', 0.6349596381187439),\n",
       " ('slotted_spoon', 0.6332122087478638)]"
      ]
     },
     "execution_count": 58,
     "metadata": {},
     "output_type": "execute_result"
    }
   ],
   "source": [
    "google_w2v_model.most_similar(\"spoon\")"
   ]
  },
  {
   "cell_type": "markdown",
   "metadata": {},
   "source": [
    "Here, one model is trained on our tiny Lee News corpus, and the other is a much larger, Google News trained word2vec model which is easy to download off the net. We use pre-trained models when we think if the semantic meanings of words in our dataset would more or less match what the pre-trained model was trained on. Here, the lee corpus is indeed similar to the google news one, so we're good to go.\n",
    "\n",
    "### Words as Images and Color\n",
    "\n",
    "Words have meaning associated to them, and this meaning is formed in many ways. The previous method we saw, word2vec, is based on the notion of \"distributional semantics\", which means that words get their meaning based on how they are distributed, i.e what kind of words appear around each other. Words like spoon appear around words like spatula and ladle, and maybe lie in a \"semantic kitchen\", of sorts. But words don't just get their meaning through other words, they also get their meaning through the embodied aspects of human experience, such as vision or sound. \n",
    "\n",
    "Work in multi-modal theories of cognition and joint embeddings allow us to represent words using mulitple data sources. The package [comp-syn](https://github.com/comp-syn/comp-syn/) lets us load both average images and color vectors for words."
   ]
  },
  {
   "cell_type": "code",
   "execution_count": 59,
   "metadata": {},
   "outputs": [],
   "source": [
    "import compsyn as cs\n",
    "import PIL\n",
    "from PIL import Image\n",
    "import numpy as np"
   ]
  },
  {
   "cell_type": "code",
   "execution_count": 60,
   "metadata": {},
   "outputs": [],
   "source": [
    "path = \"/Users/bhargavvader/open_source/comp-syn/vectors_data/\""
   ]
  },
  {
   "cell_type": "code",
   "execution_count": 61,
   "metadata": {},
   "outputs": [],
   "source": [
    "disk_vectors = cs.vectors.LoadVectorsFromDisk(path)"
   ]
  },
  {
   "cell_type": "code",
   "execution_count": 62,
   "metadata": {},
   "outputs": [],
   "source": [
    "disk_vectors.load_colorgram(\"spoon\")"
   ]
  },
  {
   "cell_type": "code",
   "execution_count": 63,
   "metadata": {},
   "outputs": [
    {
     "data": {
      "image/png": "[encoded data removed]",
      "text/plain": [
       "<PIL.Image.Image image mode=RGB size=300x300 at 0x292022290>"
      ]
     },
     "execution_count": 63,
     "metadata": {},
     "output_type": "execute_result"
    }
   ],
   "source": [
    "disk_vectors.vectors[\"spoon\"].colorgram"
   ]
  },
  {
   "cell_type": "markdown",
   "metadata": {},
   "source": [
    "Neat, huh? That image is a composite of 100 images of spoons downloaded from google images and can be thought of as an \"average\" image of a spoon. comp-syn also has RBG and JzAzBz (human perceptible color representation) vector representations of the word spoon."
   ]
  },
  {
   "cell_type": "code",
   "execution_count": 64,
   "metadata": {},
   "outputs": [
    {
     "data": {
      "text/plain": [
       "[3.9738240445479745e-08,\n",
       " 1.2427330195609368e-09,\n",
       " 6.615186550505544e-11,\n",
       " 7.200046236615882e-10,\n",
       " 6.0791634523004805e-09,\n",
       " 3.6344928504957475e-09,\n",
       " 6.0914932165356215e-09,\n",
       " 4.248967558145478e-07]"
      ]
     },
     "execution_count": 64,
     "metadata": {},
     "output_type": "execute_result"
    }
   ],
   "source": [
    "disk_vectors.vectors[\"spoon\"].rgb_dist"
   ]
  },
  {
   "cell_type": "code",
   "execution_count": 65,
   "metadata": {},
   "outputs": [
    {
     "data": {
      "text/plain": [
       "[1.5443596654454392,\n",
       " 110.44117960225408,\n",
       " 0.09030894441112076,\n",
       " 23.274409875341043,\n",
       " 0.6444088441605241,\n",
       " 649.3077159017771,\n",
       " 7.558348899594023,\n",
       " 48.892767068044215]"
      ]
     },
     "execution_count": 65,
     "metadata": {},
     "output_type": "execute_result"
    }
   ],
   "source": [
    "disk_vectors.vectors[\"spoon\"].jzazbz_dist"
   ]
  },
  {
   "cell_type": "markdown",
   "metadata": {},
   "source": [
    "There are many ways we can go from an image to a vector. In the notebook on image data, we saw how we can create an image embedding from an image by extracting the representation from a neural network trained to classify images."
   ]
  },
  {
   "cell_type": "code",
   "execution_count": 66,
   "metadata": {},
   "outputs": [],
   "source": [
    "from img2vec_pytorch import Img2Vec\n"
   ]
  },
  {
   "cell_type": "code",
   "execution_count": 67,
   "metadata": {},
   "outputs": [],
   "source": [
    "img2vec = Img2Vec()"
   ]
  },
  {
   "cell_type": "code",
   "execution_count": 68,
   "metadata": {},
   "outputs": [],
   "source": [
    "avg_spoon = disk_vectors.vectors[\"spoon\"].colorgram"
   ]
  },
  {
   "cell_type": "code",
   "execution_count": 69,
   "metadata": {},
   "outputs": [],
   "source": [
    "spoon_img_vec = img2vec.get_vec(avg_spoon)"
   ]
  },
  {
   "cell_type": "code",
   "execution_count": 70,
   "metadata": {},
   "outputs": [
    {
     "data": {
      "text/plain": [
       "array([5.14629483e-01, 1.37361616e-01, 9.68453661e-02, 2.44864321e+00,\n",
       "       3.68885398e-01, 2.12588143e+00, 6.98688924e-02, 2.45071992e-01,\n",
       "       2.96180248e+00, 5.52304924e-01, 5.19867539e-02, 6.99437484e-02,\n",
       "       6.97937533e-02, 8.63996863e-01, 9.52431679e-01, 7.30334818e-01,\n",
       "       0.00000000e+00, 7.87598372e-01, 8.63852680e-01, 1.44910097e-01,\n",
       "       2.40326114e-02, 5.63538551e-01, 6.59435451e-01, 9.47763771e-03,\n",
       "       1.20002054e-01, 3.88837941e-02, 2.16037288e-01, 8.71125340e-01,\n",
       "       2.30171129e-01, 9.55478728e-01, 1.08914399e+00, 2.43684316e+00,\n",
       "       9.26468492e-01, 6.09005034e-01, 2.80537069e-01, 7.61352777e-01,\n",
       "       2.68611163e-02, 1.34569064e-01, 2.14975357e+00, 5.47741413e-01,\n",
       "       2.51136589e+00, 3.05265874e-01, 6.41367063e-02, 6.58354402e-01,\n",
       "       1.07621551e+00, 3.05058330e-01, 4.48271066e-01, 7.30638206e-02,\n",
       "       1.17916954e+00, 1.50554419e-01, 1.05346107e+00, 2.49960065e-01,\n",
       "       8.22983861e-01, 8.43641609e-02, 1.33485603e+00, 0.00000000e+00,\n",
       "       2.94814765e-01, 2.77066422e+00, 1.32635206e-01, 8.86820257e-01,\n",
       "       2.30728388e-01, 6.68534100e-01, 3.02168965e-01, 0.00000000e+00,\n",
       "       3.42623651e-01, 8.33075762e-01, 6.06074691e-01, 1.62636191e-01,\n",
       "       1.21865585e-01, 5.40512539e-02, 2.47177437e-01, 5.74103475e-01,\n",
       "       3.75786304e-01, 9.94704962e-02, 1.35886693e+00, 0.00000000e+00,\n",
       "       1.49892521e+00, 2.13070416e+00, 2.49851078e-01, 1.61099002e-01,\n",
       "       2.29603469e-01, 2.82993388e+00, 3.28359246e-01, 1.09495996e-02,\n",
       "       0.00000000e+00, 4.58325446e-01, 1.20679116e+00, 0.00000000e+00,\n",
       "       9.64810848e-01, 1.59095891e-03, 9.60111320e-01, 4.97303873e-01,\n",
       "       1.88233722e-02, 3.00350636e-01, 2.11404666e-01, 2.42088273e-01,\n",
       "       8.40165913e-01, 5.07403255e-01, 3.93477082e-01, 4.26216513e-01,\n",
       "       1.08739480e-01, 2.04321966e-01, 7.07955956e-01, 3.86172533e-01,\n",
       "       2.26411271e+00, 1.49178016e+00, 7.27220893e-01, 1.20403422e-02,\n",
       "       2.19584084e+00, 2.31473237e-01, 5.84129281e-02, 2.45758429e-01,\n",
       "       1.47208646e-02, 4.72982883e-01, 9.05737572e-04, 6.28279328e-01,\n",
       "       8.09387684e-01, 3.68586570e-01, 6.73878431e-01, 2.93870658e-01,\n",
       "       4.49801296e-01, 1.04829514e+00, 1.29539892e-01, 3.55957448e-02,\n",
       "       1.29931378e+00, 3.67179394e-01, 3.10318638e-03, 7.33740985e-01,\n",
       "       1.11594701e+00, 1.21849108e+00, 1.03830278e-01, 6.76332951e-01,\n",
       "       7.28065968e-02, 2.60733873e-01, 5.32312989e-01, 6.02002263e-01,\n",
       "       7.51325488e-02, 6.55808508e-01, 1.34336045e-02, 1.34794712e+00,\n",
       "       3.46858382e-01, 1.02182257e+00, 6.57323420e-01, 1.70960687e-02,\n",
       "       7.57612884e-01, 3.96387614e-02, 6.50228620e-01, 3.46416265e-01,\n",
       "       1.63868055e-01, 3.53226185e-01, 7.36640334e-01, 8.07800233e-01,\n",
       "       3.32242027e-02, 1.10547173e+00, 1.33574975e+00, 4.42714959e-01,\n",
       "       4.00725156e-02, 1.58196352e-02, 8.10126781e-01, 6.80609494e-02,\n",
       "       1.15540614e-02, 4.47240740e-01, 5.87726057e-01, 2.59901017e-01,\n",
       "       1.26362845e-01, 2.90514212e-02, 2.52291679e+00, 0.00000000e+00,\n",
       "       4.91160011e+00, 1.76514828e+00, 7.35977516e-02, 3.07405949e-01,\n",
       "       1.05214275e-01, 0.00000000e+00, 3.52355570e-01, 3.51126933e+00,\n",
       "       2.76819104e-03, 0.00000000e+00, 7.43467450e-01, 1.07477009e+00,\n",
       "       1.78983063e-02, 3.69129777e-02, 1.66999471e+00, 1.51392877e+00,\n",
       "       1.26936601e-03, 6.03068888e-01, 1.26184449e-01, 2.40249202e-01,\n",
       "       8.37243497e-02, 1.02979779e-01, 7.01587275e-02, 1.47978812e-01,\n",
       "       1.46605647e+00, 3.79786909e-01, 3.11310738e-01, 5.19677162e-01,\n",
       "       5.73609650e-01, 1.65863428e-03, 1.53794563e+00, 3.53608549e-01,\n",
       "       8.25806499e-01, 2.46403199e-02, 1.34061909e+00, 3.53818312e-02,\n",
       "       5.96257411e-02, 2.23874971e-01, 1.78600833e-01, 1.49895266e-01,\n",
       "       1.25655282e+00, 8.64824951e-01, 2.05928102e-01, 4.98567700e-01,\n",
       "       9.11609888e-01, 9.67076421e-02, 1.49386561e+00, 1.43704140e+00,\n",
       "       2.96501238e-02, 2.29040727e-01, 8.11733961e-01, 1.38247883e+00,\n",
       "       2.27392048e-01, 5.10409832e-01, 0.00000000e+00, 7.24501014e-01,\n",
       "       3.98000956e-01, 2.58876592e-01, 7.43382990e-01, 3.49610269e-01,\n",
       "       1.27747813e-02, 5.76898634e-01, 1.33925319e+00, 4.15131375e-02,\n",
       "       6.85240105e-02, 3.06519479e-01, 1.21555722e+00, 1.15008676e+00,\n",
       "       8.23400021e-01, 0.00000000e+00, 2.41376236e-01, 6.99707329e-01,\n",
       "       5.51571071e-01, 1.09242451e+00, 1.16852534e+00, 4.52340096e-01,\n",
       "       2.84685373e-01, 1.51519072e+00, 9.76006091e-02, 3.39629918e-01,\n",
       "       2.06992671e-01, 1.50630521e-02, 1.47939563e+00, 1.41743422e+00,\n",
       "       9.22176521e-03, 7.04100076e-03, 1.08863997e+00, 3.29593182e-01,\n",
       "       2.93803543e-01, 9.00822759e-01, 9.17005658e-01, 4.70814407e-02,\n",
       "       7.58413017e-01, 0.00000000e+00, 3.33319753e-01, 2.15551570e-01,\n",
       "       0.00000000e+00, 5.52375197e-01, 9.24773887e-02, 9.23511088e-01,\n",
       "       2.52140570e+00, 2.59398930e-02, 1.83917654e+00, 3.08206491e-03,\n",
       "       2.32792750e-01, 2.77003944e-02, 4.90274221e-01, 3.39636862e-01,\n",
       "       8.50604177e-01, 8.82068098e-01, 6.57056987e-01, 1.22354910e-01,\n",
       "       5.69139957e-01, 0.00000000e+00, 3.97566520e-02, 6.13970184e+00,\n",
       "       2.92985141e-01, 7.28579283e-01, 8.84003997e-01, 3.39324564e-01,\n",
       "       2.00155243e-01, 1.87345445e-01, 3.63058485e-02, 7.76246130e-01,\n",
       "       3.71184456e-03, 4.31312285e-02, 4.20852274e-01, 0.00000000e+00,\n",
       "       9.52643394e-01, 3.12571391e-03, 1.09735000e+00, 8.56858045e-02,\n",
       "       1.61936271e+00, 5.79078645e-02, 2.85383075e-01, 4.58165586e-01,\n",
       "       1.06312595e-02, 5.56622399e-03, 5.00308931e-01, 1.73411393e+00,\n",
       "       2.00490132e-01, 3.01104952e-02, 6.11173391e-01, 1.19540656e+00,\n",
       "       6.81901872e-01, 5.12306809e-01, 6.10683262e-01, 3.25227417e-02,\n",
       "       1.00558031e+00, 4.70034033e-01, 2.45115548e-01, 1.68217439e-02,\n",
       "       7.83922553e-01, 5.61095357e-01, 6.25123233e-02, 5.69364727e-01,\n",
       "       5.85546076e-01, 6.59970582e-01, 4.27739203e-01, 6.11265972e-02,\n",
       "       1.68582916e-01, 3.46657544e-01, 7.11443067e-01, 1.89770237e-01,\n",
       "       7.99377501e-01, 1.76329110e-02, 8.83129835e-01, 9.76915956e-02,\n",
       "       1.82966697e+00, 2.01579094e-01, 5.22989631e-02, 8.73124111e-04,\n",
       "       0.00000000e+00, 4.41786170e-01, 1.53896284e+00, 2.43714738e+00,\n",
       "       4.69528228e-01, 1.28705657e+00, 1.83594808e-01, 1.35770214e+00,\n",
       "       3.87192249e-01, 7.16820240e-01, 1.40294325e+00, 8.65184486e-01,\n",
       "       1.49087965e+00, 1.14207172e+00, 3.48654427e-02, 5.51825538e-02,\n",
       "       4.66975868e-01, 8.03718507e-01, 3.13843280e-01, 5.57703137e-01,\n",
       "       7.41424412e-02, 2.81474902e-03, 4.08949286e-01, 8.65920484e-02,\n",
       "       3.21512151e+00, 1.68103063e+00, 1.29797533e-01, 1.34706810e-01,\n",
       "       8.93008351e-01, 1.79926828e-01, 0.00000000e+00, 1.31480062e+00,\n",
       "       1.30880624e-01, 1.91799283e-01, 7.61602104e-01, 9.80702117e-02,\n",
       "       4.12353277e-01, 2.93049604e-01, 2.30310969e-02, 3.03939916e-02,\n",
       "       2.65449375e-01, 1.17024064e+00, 1.48137462e+00, 3.67555857e-01,\n",
       "       3.25387642e-02, 3.82020831e-01, 6.46617264e-02, 2.14081690e-01,\n",
       "       6.08505368e-01, 3.72203112e-01, 1.45303845e+00, 5.14151715e-02,\n",
       "       2.63670892e-01, 6.82733476e-01, 1.94295533e-02, 6.78564250e-01,\n",
       "       8.21602345e-01, 1.32403120e-01, 2.36967713e-01, 0.00000000e+00,\n",
       "       0.00000000e+00, 9.87288058e-02, 6.23944327e-02, 5.48616238e-03,\n",
       "       1.18615675e+00, 6.46228671e-01, 1.06142509e+00, 4.01475094e-02,\n",
       "       8.26223120e-02, 2.61640608e-01, 1.20043302e+00, 4.77209061e-01,\n",
       "       1.92969549e+00, 0.00000000e+00, 3.84133239e-03, 1.21491909e-01,\n",
       "       6.33782595e-02, 1.01163077e+00, 4.30929847e-03, 2.08674110e-02,\n",
       "       1.54100478e+00, 9.83179659e-02, 2.80006379e-01, 4.09501605e-02,\n",
       "       4.60838795e-01, 1.47442613e-03, 5.40317476e-01, 1.05432475e+00,\n",
       "       2.67786384e-01, 3.70628834e-01, 1.76829547e-01, 1.04613483e-01,\n",
       "       5.81693649e-02, 0.00000000e+00, 1.26691591e-02, 1.35013068e+00,\n",
       "       3.52204919e-01, 3.19765478e-01, 1.08519602e+00, 2.62530297e-01,\n",
       "       3.16440284e-01, 1.20385773e-01, 6.74469098e-02, 1.58927783e-01,\n",
       "       8.92414510e-01, 0.00000000e+00, 1.22307491e+00, 4.05271262e-01,\n",
       "       8.21578503e-03, 6.88065290e-01, 7.51131177e-01, 1.84781000e-01,\n",
       "       3.98851365e-01, 0.00000000e+00, 2.23574591e+00, 2.06994557e+00,\n",
       "       1.75138295e-01, 7.57366419e-02, 3.97301292e+00, 2.95444560e+00,\n",
       "       0.00000000e+00, 8.21464539e-01, 9.26448584e-01, 6.21101022e-01,\n",
       "       4.59543735e-01, 2.44990110e-01, 3.21131083e-03, 6.56969175e-02,\n",
       "       1.85712993e+00, 1.03807986e+00, 1.09577274e+00, 3.58893187e-03,\n",
       "       6.36698484e-01, 1.97949745e-02, 1.34570703e-01, 2.45016813e-01,\n",
       "       1.03962052e+00, 1.95850456e+00, 5.76058105e-02, 8.71334910e-01,\n",
       "       4.58681822e-01, 7.55346775e-01, 5.07641256e-01, 2.46624239e-02,\n",
       "       1.59567404e+00, 2.44169056e-01, 1.79187208e-02, 1.15156375e-01,\n",
       "       3.88749182e-01, 3.28432322e-01, 2.29618087e-01, 8.54858994e-01,\n",
       "       0.00000000e+00, 1.53543010e-01, 1.63419530e-01, 6.82659000e-02,\n",
       "       3.71025950e-01, 1.19524531e-01, 6.66800141e-02, 4.51598734e-01,\n",
       "       2.05019675e-03, 1.61239791e+00, 1.66566479e+00, 1.77540034e-01,\n",
       "       3.58524710e-01, 2.54442453e+00, 2.05806494e+00, 6.75027251e-01,\n",
       "       2.05491185e-01, 5.24591446e+00, 0.00000000e+00, 2.34077692e-01],\n",
       "      dtype=float32)"
      ]
     },
     "execution_count": 70,
     "metadata": {},
     "output_type": "execute_result"
    }
   ],
   "source": [
    "spoon_img_vec"
   ]
  },
  {
   "cell_type": "markdown",
   "metadata": {},
   "source": [
    "So there we go.. word to \"average\" image, and then image to image embedding via a Convolutional Neural Network.\n",
    "Take a second to think - what are all these different representations of the same word \"spoon\" mean?"
   ]
  },
  {
   "cell_type": "markdown",
   "metadata": {},
   "source": [
    "### Documents as Vectors\n",
    "\n",
    "So we see how we can represent words as vectors - how about documents? We can think of two methods, to start with - one would be to simply all the words in a document, and the other would be train a model which directly creates document vectors."
   ]
  },
  {
   "cell_type": "code",
   "execution_count": 71,
   "metadata": {},
   "outputs": [],
   "source": [
    "from gensim.models.doc2vec import Doc2Vec, TaggedDocument"
   ]
  },
  {
   "cell_type": "code",
   "execution_count": 72,
   "metadata": {},
   "outputs": [],
   "source": [
    "documents = [TaggedDocument(doc, [i]) for i, doc in enumerate(texts)]"
   ]
  },
  {
   "cell_type": "code",
   "execution_count": 73,
   "metadata": {},
   "outputs": [],
   "source": [
    "d2vmodel = Doc2Vec(documents, vector_size=50)"
   ]
  },
  {
   "cell_type": "markdown",
   "metadata": {},
   "source": [
    "The function below creates an average word vector or a document vector."
   ]
  },
  {
   "cell_type": "code",
   "execution_count": 74,
   "metadata": {},
   "outputs": [],
   "source": [
    "def create_vector(text, model, model_type=None):\n",
    "    if model_type == \"word2vec\":\n",
    "        vectors = []\n",
    "        for word in text:\n",
    "            try:\n",
    "                vectors.append(model.wv[word])\n",
    "            except KeyError:\n",
    "                pass\n",
    "        if len(vectors) > 0:\n",
    "            return np.mean(vectors, axis=0)\n",
    "    if model_type == \"doc2vec\":\n",
    "        vector = model.infer_vector(text)\n",
    "        return vector"
   ]
  },
  {
   "cell_type": "code",
   "execution_count": 75,
   "metadata": {},
   "outputs": [
    {
     "data": {
      "text/plain": [
       "array([ 0.5794935 , -0.20753704,  0.0024721 ,  0.04706167, -0.17285022,\n",
       "        0.21218176, -0.64178956, -0.47167182,  0.00159357,  0.0914737 ,\n",
       "       -0.12653834, -0.18154657,  0.19686131, -0.13968743,  0.17633548,\n",
       "        0.22954144, -0.18721373,  0.16924779, -0.55562305,  0.02555597,\n",
       "       -0.0670325 , -0.19914544,  0.04582504, -0.03626764, -0.3278602 ,\n",
       "        0.47457156, -0.10855043, -0.44830817, -0.09969614,  0.06727244,\n",
       "       -0.3004903 , -0.03963617,  0.09011645, -0.15556128, -0.06410249,\n",
       "        0.16959599, -0.30870268,  0.2064171 ,  0.00561773, -0.15100743,\n",
       "        0.19231653, -0.0955501 ,  0.15499222, -0.3312685 ,  0.18173479,\n",
       "        0.24024096, -0.14265129,  0.2127961 ,  0.12154862, -0.43966755,\n",
       "        0.29837534,  0.17464148,  0.02524101,  0.23797663, -0.22802636,\n",
       "       -0.25186127, -0.00616509, -0.19052224, -0.36821237, -0.31276768,\n",
       "        0.21700314,  0.22276141,  0.00066433,  0.26497307,  0.31296328,\n",
       "       -0.19560944, -0.24241993,  0.18064208, -0.234218  ,  0.50000554,\n",
       "        0.31962028,  0.12155118,  0.08139814,  0.1171322 , -0.16840997,\n",
       "        0.36460066,  0.06256488, -0.51301414, -0.60427386, -0.19722618,\n",
       "        0.06534793, -0.16823964, -0.06112695,  0.09232894, -0.4635605 ,\n",
       "       -0.10889598,  0.07457621, -0.19771914, -0.1545866 , -0.01972799,\n",
       "        0.14989391,  0.27648765, -0.453801  ,  0.38840345,  0.16668674,\n",
       "       -0.09927513,  0.44189358,  0.05413041, -0.32305923,  0.22352982],\n",
       "      dtype=float32)"
      ]
     },
     "execution_count": 75,
     "metadata": {},
     "output_type": "execute_result"
    }
   ],
   "source": [
    "create_vector(texts[0], w2vmodel, model_type=\"word2vec\")"
   ]
  },
  {
   "cell_type": "code",
   "execution_count": 76,
   "metadata": {},
   "outputs": [
    {
     "data": {
      "text/plain": [
       "array([ 0.6379139 , -0.16514458, -0.00417339, -0.00902078, -0.5280322 ,\n",
       "        0.25677648, -0.78328407, -0.51989305,  0.09536106,  0.20246726,\n",
       "       -0.4732215 , -0.07307225,  0.33552808, -0.3567139 ,  0.44888   ,\n",
       "        0.21234696, -0.6780268 ,  0.1279877 , -0.72389597,  0.15816367,\n",
       "       -0.26973474, -0.10938711,  0.12962307,  0.0105017 , -0.03021871,\n",
       "        0.78953975,  0.09661324, -0.41753736,  0.08828314,  0.14132513,\n",
       "       -0.60222715, -0.10110655,  0.12981145, -0.31100753,  0.06847727,\n",
       "        0.39895418, -0.7793934 ,  0.5542973 , -0.2046454 , -0.5378836 ,\n",
       "        0.12590252, -0.14908487,  0.2324714 , -0.5205705 ,  0.1325852 ,\n",
       "        0.414982  , -0.01941873,  0.12104273,  0.06669845, -0.46370226],\n",
       "      dtype=float32)"
      ]
     },
     "execution_count": 76,
     "metadata": {},
     "output_type": "execute_result"
    }
   ],
   "source": [
    "create_vector(texts[0], d2vmodel, model_type=\"doc2vec\")"
   ]
  },
  {
   "cell_type": "markdown",
   "metadata": {},
   "source": [
    "There we go: those are ways we can represent documents in low dimensions (LSA), as a function of the words in the document (bag of words, TF-IDF), and using popular embedding methods such as word2vec and doc2vec."
   ]
  },
  {
   "cell_type": "markdown",
   "metadata": {},
   "source": [
    "### Text pre-processing for deep learning\n",
    "\n",
    "For deep learning algorithms, we use many of the methods we discussed earlier, such as tokenising and using a vocabulary to convert the words to word ids. Luckily for us, packages such as PyTorch and Keras include extensive pre-processing suites for their text based deep learning models.\n",
    "\n",
    "Specifically, torch uses torchtext for its text preprocessing. In the following lines of code we use torchtext.data.Field which is a base datatype for text pre-processing: we can tokenise, lowercase and pad our words. Most deep learning applications require to us to mention a sequence length which is constant - so sentences with fewer tokens need to be padded to make the data of uniform length."
   ]
  },
  {
   "cell_type": "code",
   "execution_count": 77,
   "metadata": {},
   "outputs": [],
   "source": [
    "import torch\n",
    "import torchtext\n",
    "from torchtext.datasets import text_classification"
   ]
  },
  {
   "cell_type": "code",
   "execution_count": 78,
   "metadata": {},
   "outputs": [],
   "source": [
    "import functools\n",
    "import operator\n",
    "from collections import Counter"
   ]
  },
  {
   "cell_type": "code",
   "execution_count": 79,
   "metadata": {},
   "outputs": [],
   "source": [
    "def spacy_tokenizer(text):\n",
    "    return [tok.text for tok in nlp.tokenizer(text)]"
   ]
  },
  {
   "cell_type": "code",
   "execution_count": 80,
   "metadata": {},
   "outputs": [],
   "source": [
    "seq_len  =  15#@param\n"
   ]
  },
  {
   "cell_type": "code",
   "execution_count": 81,
   "metadata": {},
   "outputs": [],
   "source": [
    "TEXT = torchtext.data.Field(\n",
    "  tokenize    = spacy_tokenizer,\n",
    "  lower       = True,\n",
    "  batch_first = True,\n",
    "  init_token  = '<bos>',\n",
    "  eos_token   = '<eos>',\n",
    "  fix_length  = seq_len\n",
    ")"
   ]
  },
  {
   "cell_type": "code",
   "execution_count": 82,
   "metadata": {},
   "outputs": [],
   "source": [
    "minibatch = [ 'The Brown Fox Jumped Over The Lazy Dog' ]\n",
    "minibatch = list(map(TEXT.preprocess, minibatch))"
   ]
  },
  {
   "cell_type": "code",
   "execution_count": 83,
   "metadata": {},
   "outputs": [
    {
     "name": "stdout",
     "output_type": "stream",
     "text": [
      "[['<bos>', 'the', 'brown', 'fox', 'jumped', 'over', 'the', 'lazy', 'dog', '<eos>', '<pad>', '<pad>', '<pad>', '<pad>', '<pad>']]\n"
     ]
    }
   ],
   "source": [
    "minibatch = TEXT.pad(minibatch)\n",
    "print(minibatch)"
   ]
  },
  {
   "cell_type": "code",
   "execution_count": 84,
   "metadata": {},
   "outputs": [
    {
     "data": {
      "text/plain": [
       "Counter({'<bos>': 1,\n",
       "         'the': 2,\n",
       "         'brown': 1,\n",
       "         'fox': 1,\n",
       "         'jumped': 1,\n",
       "         'over': 1,\n",
       "         'lazy': 1,\n",
       "         'dog': 1,\n",
       "         '<eos>': 1,\n",
       "         '<pad>': 5})"
      ]
     },
     "execution_count": 84,
     "metadata": {},
     "output_type": "execute_result"
    }
   ],
   "source": [
    "tokens = functools.reduce(operator.concat, minibatch)\n",
    "counter = Counter(tokens)\n",
    "counter"
   ]
  },
  {
   "cell_type": "code",
   "execution_count": 85,
   "metadata": {},
   "outputs": [],
   "source": [
    "vocab = TEXT.vocab_cls(counter)\n"
   ]
  },
  {
   "cell_type": "code",
   "execution_count": 86,
   "metadata": {},
   "outputs": [],
   "source": [
    "TEXT.build_vocab(minibatch)"
   ]
  },
  {
   "cell_type": "code",
   "execution_count": 87,
   "metadata": {},
   "outputs": [
    {
     "name": "stdout",
     "output_type": "stream",
     "text": [
      "['<unk>', '<pad>', 'the', '<bos>', '<eos>', 'brown', 'dog', 'fox', 'jumped', 'lazy', 'over']\n"
     ]
    }
   ],
   "source": [
    "print(vocab.itos)\n"
   ]
  },
  {
   "cell_type": "code",
   "execution_count": 88,
   "metadata": {},
   "outputs": [
    {
     "name": "stdout",
     "output_type": "stream",
     "text": [
      "defaultdict(<bound method Vocab._default_unk_index of <torchtext.vocab.Vocab object at 0x29790bc90>>, {'<unk>': 0, '<pad>': 1, 'the': 2, '<bos>': 3, '<eos>': 4, 'brown': 5, 'dog': 6, 'fox': 7, 'jumped': 8, 'lazy': 9, 'over': 10})\n"
     ]
    }
   ],
   "source": [
    "print(vocab.stoi)\n"
   ]
  },
  {
   "cell_type": "code",
   "execution_count": 89,
   "metadata": {},
   "outputs": [
    {
     "data": {
      "text/plain": [
       "tensor([[ 2,  4,  5,  7,  8, 10,  4,  9,  6,  3,  1,  1,  1,  1,  1]])"
      ]
     },
     "execution_count": 89,
     "metadata": {},
     "output_type": "execute_result"
    }
   ],
   "source": [
    "TEXT.numericalize(minibatch)"
   ]
  }
 ],
 "metadata": {
  "kernelspec": {
   "display_name": "Python 3",
   "language": "python",
   "name": "python3"
  },
  "language_info": {
   "codemirror_mode": {
    "name": "ipython",
    "version": 3
   },
   "file_extension": ".py",
   "mimetype": "text/x-python",
   "name": "python",
   "nbconvert_exporter": "python",
   "pygments_lexer": "ipython3",
   "version": "3.7.6"
  }
 },
 "nbformat": 4,
 "nbformat_minor": 4
}
